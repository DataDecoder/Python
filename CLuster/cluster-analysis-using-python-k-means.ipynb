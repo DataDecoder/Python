{
 "cells": [
  {
   "attachments": {
    "ce55333f-00f4-4ee3-8864-7a119beddd35.png": {
     "image/png": "[encoded data removed]"
    }
   },
   "cell_type": "markdown",
   "id": "05e705d4",
   "metadata": {
    "papermill": {
     "duration": 0.020531,
     "end_time": "2021-11-04T16:25:33.698698",
     "exception": false,
     "start_time": "2021-11-04T16:25:33.678167",
     "status": "completed"
    },
    "tags": []
   },
   "source": [
    "Hello Kagglers,\n",
    "\n",
    "K-Means clustering is the most popular unsupervised machine learning algorithm, which is used when you have unlabeled data. The goal of this algorithm is to find groups in the data, with the number of groups represented by the variable K. The algorithm works iteratively to assign each data point to one of K groups based on the features that are provided. Data points are clustered based on feature similarity. The results of the K-means clustering algorithm are:\n",
    "* The centroids of the K clusters, which can be used to label new data\n",
    "* Labels for the training data (each data point is assigned to a single cluster)\n",
    "\n",
    "![upvote.png](attachment:ce55333f-00f4-4ee3-8864-7a119beddd35.png)\n",
    "\n",
    "So, let's go."
   ]
  },
  {
   "cell_type": "markdown",
   "id": "4b2b114b",
   "metadata": {
    "papermill": {
     "duration": 0.01585,
     "end_time": "2021-11-04T16:25:33.731184",
     "exception": false,
     "start_time": "2021-11-04T16:25:33.715334",
     "status": "completed"
    },
    "tags": []
   },
   "source": [
    "# **How Does the K-means clustering algorithm work?**\n",
    "\n",
    "K-Means clustering can be represented diagrammatically as follows:\n",
    "![Image](https://miro.medium.com/max/1122/0*mQCGBdYhzZ8YMZPv.png)\n",
    "\n",
    "k-means clustering tries to group similar kinds of items in form of clusters. It finds the similarity between the items and groups them into the clusters. K-means clustering algorithm works in four steps:\n",
    "\n",
    "Step 1 − First, we need to specify the number of clusters, K, need to be generated by this algorithm.\n",
    "\n",
    "Step 2 − Next, randomly select K data points and assign each data point to a cluster. In simple words, classify the data based on the number of data points.\n",
    "\n",
    "Step 3 − Now, it will compute the cluster centroids.\n",
    "\n",
    "Step 4 − Next, keep iterating the following until we find optimal centroid which is the assignment of data points to the clusters that are not changing any more:\n",
    "\n",
    "    4.1. First, the sum of squared error (SSE) between data points and centroids would be computed.\n",
    "   \n",
    "    4.2. Now, we have to assign each data point to the cluster that is closer than other cluster (centroid).\n",
    "  \n",
    "    4.3. At last compute the centroids for the clusters by taking the average of all data points of that cluster.\n",
    "\n",
    "\n",
    "Figures 1 to 4 represent a simple explanation of the K-Means algorithm:\n",
    "\n",
    "![Image](https://editor.analyticsvidhya.com/uploads/34513k%20means.png)\n",
    "\n",
    "\n",
    "Figure 1 shows the representation of data of two different items. the first item has shown in blue color and the second item has shown in red color. In the first step, the value of K is chosen randomly.\n",
    "    In figure 2, to find out centroid, we will draw a perpendicular line to that line. The points will move to their centroid. If you will notice there, then you will see that some of the red points are now moved to the blue points. Now, these points belong to the group of blue color items.\n",
    "    The same process will be done in figure 3. The two points are joined and a new perpendicular line is drawn to find the centroid. Again, some of the red points get converted to blue points.\n",
    "    The same process is happening in figure 4. This process will be continued until and unless we get two completely different clusters of these groups.\n",
    "    we will keep iterating the following until we find optimal centroid which is the assignment of data points to the clusters that are not changing any more\n",
    "\n",
    "    NOTE: Please note that the K-means clustering uses the euclidean distance method to find out the distance between the points\n",
    "\n",
    "\n"
   ]
  },
  {
   "cell_type": "markdown",
   "id": "b551bc1d",
   "metadata": {
    "papermill": {
     "duration": 0.01574,
     "end_time": "2021-11-04T16:25:33.763187",
     "exception": false,
     "start_time": "2021-11-04T16:25:33.747447",
     "status": "completed"
    },
    "tags": []
   },
   "source": [
    "# **How to pick the optimal value of K?**\n",
    "\n",
    "the performance of K-Means algorithm depends upon the value of K. We should choose the optimal value of K to have best performance. There are different techniques to find the optimal value of K. The most common technique is the \"elbow method\" which is described below.\n",
    "\n",
    "![Image](https://editor.analyticsvidhya.com/uploads/62725cluster0.PNG)\n",
    "\n",
    "Elbow method is an empirical method to find out the best value of k. it picks up a range of values and takes the best among them by running the algorithm multiple times over a loop, with an increasing number of cluster choice and then plotting a clustering score as a function of the number of clusters.\n",
    "\n",
    "    Note: the elbow method calculates the sum of the square of the points and calculates the average distance."
   ]
  },
  {
   "cell_type": "markdown",
   "id": "7d6a4b9f",
   "metadata": {
    "papermill": {
     "duration": 0.015826,
     "end_time": "2021-11-04T16:25:33.796088",
     "exception": false,
     "start_time": "2021-11-04T16:25:33.780262",
     "status": "completed"
    },
    "tags": []
   },
   "source": [
    "# **Import Libraries**"
   ]
  },
  {
   "cell_type": "code",
   "execution_count": 1,
   "id": "e09232df",
   "metadata": {
    "_cell_guid": "b1076dfc-b9ad-4769-8c92-a6c4dae69d19",
    "_uuid": "8f2839f25d086af736a60e9eeb907d3b93b6e0e5",
    "execution": {
     "iopub.execute_input": "2021-11-04T16:25:33.842689Z",
     "iopub.status.busy": "2021-11-04T16:25:33.841753Z",
     "iopub.status.idle": "2021-11-04T16:25:35.074019Z",
     "shell.execute_reply": "2021-11-04T16:25:35.074568Z",
     "shell.execute_reply.started": "2021-11-04T15:43:15.910936Z"
    },
    "papermill": {
     "duration": 1.262684,
     "end_time": "2021-11-04T16:25:35.074960",
     "exception": false,
     "start_time": "2021-11-04T16:25:33.812276",
     "status": "completed"
    },
    "tags": []
   },
   "outputs": [
    {
     "name": "stdout",
     "output_type": "stream",
     "text": [
      "/kaggle/input/mall-customers/Mall_Customers.csv\n"
     ]
    }
   ],
   "source": [
    "# This Python 3 environment comes with many helpful analytics libraries installed\n",
    "# It is defined by the kaggle/python Docker image: https://github.com/kaggle/docker-python\n",
    "# For example, here's several helpful packages to load\n",
    "\n",
    "import pandas as pd # data processing, CSV file I/O (e.g. pd.read_csv)\n",
    "from sklearn.cluster import KMeans\n",
    "import pandas as pd\n",
    "from sklearn.preprocessing import MinMaxScaler\n",
    "from matplotlib import pyplot as plt\n",
    "%matplotlib inline\n",
    "\n",
    "# Input data files are available in the read-only \"../input/\" directory\n",
    "# For example, running this (by clicking run or pressing Shift+Enter) will list all files under the input directory\n",
    "\n",
    "import os\n",
    "for dirname, _, filenames in os.walk('/kaggle/input'):\n",
    "    for filename in filenames:\n",
    "        print(os.path.join(dirname, filename))\n",
    "\n",
    "# You can write up to 20GB to the current directory (/kaggle/working/) that gets preserved as output when you create a version using \"Save & Run All\" \n",
    "# You can also write temporary files to /kaggle/temp/, but they won't be saved outside of the current session"
   ]
  },
  {
   "cell_type": "markdown",
   "id": "746e022c",
   "metadata": {
    "papermill": {
     "duration": 0.016559,
     "end_time": "2021-11-04T16:25:35.108752",
     "exception": false,
     "start_time": "2021-11-04T16:25:35.092193",
     "status": "completed"
    },
    "tags": []
   },
   "source": [
    "# **Import dataset**"
   ]
  },
  {
   "cell_type": "code",
   "execution_count": 2,
   "id": "552f96cd",
   "metadata": {
    "execution": {
     "iopub.execute_input": "2021-11-04T16:25:35.146117Z",
     "iopub.status.busy": "2021-11-04T16:25:35.145321Z",
     "iopub.status.idle": "2021-11-04T16:25:35.330722Z",
     "shell.execute_reply": "2021-11-04T16:25:35.329980Z",
     "shell.execute_reply.started": "2021-11-04T15:43:19.560086Z"
    },
    "papermill": {
     "duration": 0.205126,
     "end_time": "2021-11-04T16:25:35.330886",
     "exception": false,
     "start_time": "2021-11-04T16:25:35.125760",
     "status": "completed"
    },
    "tags": []
   },
   "outputs": [
    {
     "data": {
      "text/html": [
       "<div>\n",
       "<style scoped>\n",
       "    .dataframe tbody tr th:only-of-type {\n",
       "        vertical-align: middle;\n",
       "    }\n",
       "\n",
       "    .dataframe tbody tr th {\n",
       "        vertical-align: top;\n",
       "    }\n",
       "\n",
       "    .dataframe thead th {\n",
       "        text-align: right;\n",
       "    }\n",
       "</style>\n",
       "<table border=\"1\" class=\"dataframe\">\n",
       "  <thead>\n",
       "    <tr style=\"text-align: right;\">\n",
       "      <th></th>\n",
       "      <th>CustomerID</th>\n",
       "      <th>Genre</th>\n",
       "      <th>Age</th>\n",
       "      <th>Annual Income (k$)</th>\n",
       "      <th>Spending Score (1-100)</th>\n",
       "    </tr>\n",
       "  </thead>\n",
       "  <tbody>\n",
       "    <tr>\n",
       "      <th>0</th>\n",
       "      <td>1</td>\n",
       "      <td>Male</td>\n",
       "      <td>19</td>\n",
       "      <td>15</td>\n",
       "      <td>39</td>\n",
       "    </tr>\n",
       "    <tr>\n",
       "      <th>1</th>\n",
       "      <td>2</td>\n",
       "      <td>Male</td>\n",
       "      <td>21</td>\n",
       "      <td>15</td>\n",
       "      <td>81</td>\n",
       "    </tr>\n",
       "    <tr>\n",
       "      <th>2</th>\n",
       "      <td>3</td>\n",
       "      <td>Female</td>\n",
       "      <td>20</td>\n",
       "      <td>16</td>\n",
       "      <td>6</td>\n",
       "    </tr>\n",
       "    <tr>\n",
       "      <th>3</th>\n",
       "      <td>4</td>\n",
       "      <td>Female</td>\n",
       "      <td>23</td>\n",
       "      <td>16</td>\n",
       "      <td>77</td>\n",
       "    </tr>\n",
       "    <tr>\n",
       "      <th>4</th>\n",
       "      <td>5</td>\n",
       "      <td>Female</td>\n",
       "      <td>31</td>\n",
       "      <td>17</td>\n",
       "      <td>40</td>\n",
       "    </tr>\n",
       "  </tbody>\n",
       "</table>\n",
       "</div>"
      ],
      "text/plain": [
       "   CustomerID   Genre  Age  Annual Income (k$)  Spending Score (1-100)\n",
       "0           1    Male   19                  15                      39\n",
       "1           2    Male   21                  15                      81\n",
       "2           3  Female   20                  16                       6\n",
       "3           4  Female   23                  16                      77\n",
       "4           5  Female   31                  17                      40"
      ]
     },
     "execution_count": 2,
     "metadata": {},
     "output_type": "execute_result"
    }
   ],
   "source": [
    "data='/kaggle/input/mall-customers/Mall_Customers.csv'\n",
    "df=pd.read_csv(data)\n",
    "df.head()"
   ]
  },
  {
   "cell_type": "markdown",
   "id": "0e6f58fd",
   "metadata": {
    "papermill": {
     "duration": 0.016923,
     "end_time": "2021-11-04T16:25:35.366972",
     "exception": false,
     "start_time": "2021-11-04T16:25:35.350049",
     "status": "completed"
    },
    "tags": []
   },
   "source": [
    "As you can see, there are 5 columns in the dataset. For the sake of simplicity, in this example, I am using the columns \"*Spending Score (1-100)*\" and \"*Annual Income (k$)*\"\n",
    "\n",
    "The scatter plot of the 2 columns is shwon in the next cell."
   ]
  },
  {
   "cell_type": "code",
   "execution_count": 3,
   "id": "b660fc00",
   "metadata": {
    "execution": {
     "iopub.execute_input": "2021-11-04T16:25:35.423538Z",
     "iopub.status.busy": "2021-11-04T16:25:35.422860Z",
     "iopub.status.idle": "2021-11-04T16:25:35.654839Z",
     "shell.execute_reply": "2021-11-04T16:25:35.654191Z",
     "shell.execute_reply.started": "2021-11-04T15:43:23.731222Z"
    },
    "papermill": {
     "duration": 0.271275,
     "end_time": "2021-11-04T16:25:35.654979",
     "exception": false,
     "start_time": "2021-11-04T16:25:35.383704",
     "status": "completed"
    },
    "tags": []
   },
   "outputs": [
    {
     "data": {
      "text/plain": [
       "<matplotlib.collections.PathCollection at 0x7f59034a6e50>"
      ]
     },
     "execution_count": 3,
     "metadata": {},
     "output_type": "execute_result"
    },
    {
     "data": {
      "image/png": "[encoded data removed]",
      "text/plain": [
       "<Figure size 432x288 with 1 Axes>"
      ]
     },
     "metadata": {
      "needs_background": "light"
     },
     "output_type": "display_data"
    }
   ],
   "source": [
    "plt.scatter(df[\"Spending Score (1-100)\"],df[\"Annual Income (k$)\"])"
   ]
  },
  {
   "cell_type": "markdown",
   "id": "f57e75b7",
   "metadata": {
    "papermill": {
     "duration": 0.017072,
     "end_time": "2021-11-04T16:25:35.690997",
     "exception": false,
     "start_time": "2021-11-04T16:25:35.673925",
     "status": "completed"
    },
    "tags": []
   },
   "source": [
    "As we can see, five different clusters are seen in the image. so, I am picking 5 as the number of clusters."
   ]
  },
  {
   "cell_type": "code",
   "execution_count": 4,
   "id": "e1711a2a",
   "metadata": {
    "execution": {
     "iopub.execute_input": "2021-11-04T16:25:35.741004Z",
     "iopub.status.busy": "2021-11-04T16:25:35.740352Z",
     "iopub.status.idle": "2021-11-04T16:25:35.778657Z",
     "shell.execute_reply": "2021-11-04T16:25:35.780040Z",
     "shell.execute_reply.started": "2021-11-04T15:43:27.413243Z"
    },
    "papermill": {
     "duration": 0.070206,
     "end_time": "2021-11-04T16:25:35.780268",
     "exception": false,
     "start_time": "2021-11-04T16:25:35.710062",
     "status": "completed"
    },
    "tags": []
   },
   "outputs": [],
   "source": [
    "km=KMeans(n_clusters=5)\n",
    "y_predicted=km.fit_predict(df[[\"Spending Score (1-100)\",\"Annual Income (k$)\"]])"
   ]
  },
  {
   "cell_type": "markdown",
   "id": "32d8b1d0",
   "metadata": {
    "papermill": {
     "duration": 0.017299,
     "end_time": "2021-11-04T16:25:35.815171",
     "exception": false,
     "start_time": "2021-11-04T16:25:35.797872",
     "status": "completed"
    },
    "tags": []
   },
   "source": [
    "Now, I am creating a new column \"cluster\" and copy the predictions to the new column"
   ]
  },
  {
   "cell_type": "code",
   "execution_count": 5,
   "id": "970ebc8d",
   "metadata": {
    "execution": {
     "iopub.execute_input": "2021-11-04T16:25:35.861181Z",
     "iopub.status.busy": "2021-11-04T16:25:35.855177Z",
     "iopub.status.idle": "2021-11-04T16:25:35.864090Z",
     "shell.execute_reply": "2021-11-04T16:25:35.863458Z",
     "shell.execute_reply.started": "2021-11-04T15:47:24.089113Z"
    },
    "papermill": {
     "duration": 0.031545,
     "end_time": "2021-11-04T16:25:35.864237",
     "exception": false,
     "start_time": "2021-11-04T16:25:35.832692",
     "status": "completed"
    },
    "tags": []
   },
   "outputs": [
    {
     "data": {
      "text/html": [
       "<div>\n",
       "<style scoped>\n",
       "    .dataframe tbody tr th:only-of-type {\n",
       "        vertical-align: middle;\n",
       "    }\n",
       "\n",
       "    .dataframe tbody tr th {\n",
       "        vertical-align: top;\n",
       "    }\n",
       "\n",
       "    .dataframe thead th {\n",
       "        text-align: right;\n",
       "    }\n",
       "</style>\n",
       "<table border=\"1\" class=\"dataframe\">\n",
       "  <thead>\n",
       "    <tr style=\"text-align: right;\">\n",
       "      <th></th>\n",
       "      <th>CustomerID</th>\n",
       "      <th>Genre</th>\n",
       "      <th>Age</th>\n",
       "      <th>Annual Income (k$)</th>\n",
       "      <th>Spending Score (1-100)</th>\n",
       "      <th>cluster</th>\n",
       "    </tr>\n",
       "  </thead>\n",
       "  <tbody>\n",
       "    <tr>\n",
       "      <th>0</th>\n",
       "      <td>1</td>\n",
       "      <td>Male</td>\n",
       "      <td>19</td>\n",
       "      <td>15</td>\n",
       "      <td>39</td>\n",
       "      <td>0</td>\n",
       "    </tr>\n",
       "    <tr>\n",
       "      <th>1</th>\n",
       "      <td>2</td>\n",
       "      <td>Male</td>\n",
       "      <td>21</td>\n",
       "      <td>15</td>\n",
       "      <td>81</td>\n",
       "      <td>4</td>\n",
       "    </tr>\n",
       "    <tr>\n",
       "      <th>2</th>\n",
       "      <td>3</td>\n",
       "      <td>Female</td>\n",
       "      <td>20</td>\n",
       "      <td>16</td>\n",
       "      <td>6</td>\n",
       "      <td>0</td>\n",
       "    </tr>\n",
       "    <tr>\n",
       "      <th>3</th>\n",
       "      <td>4</td>\n",
       "      <td>Female</td>\n",
       "      <td>23</td>\n",
       "      <td>16</td>\n",
       "      <td>77</td>\n",
       "      <td>4</td>\n",
       "    </tr>\n",
       "    <tr>\n",
       "      <th>4</th>\n",
       "      <td>5</td>\n",
       "      <td>Female</td>\n",
       "      <td>31</td>\n",
       "      <td>17</td>\n",
       "      <td>40</td>\n",
       "      <td>0</td>\n",
       "    </tr>\n",
       "  </tbody>\n",
       "</table>\n",
       "</div>"
      ],
      "text/plain": [
       "   CustomerID   Genre  Age  Annual Income (k$)  Spending Score (1-100)  \\\n",
       "0           1    Male   19                  15                      39   \n",
       "1           2    Male   21                  15                      81   \n",
       "2           3  Female   20                  16                       6   \n",
       "3           4  Female   23                  16                      77   \n",
       "4           5  Female   31                  17                      40   \n",
       "\n",
       "   cluster  \n",
       "0        0  \n",
       "1        4  \n",
       "2        0  \n",
       "3        4  \n",
       "4        0  "
      ]
     },
     "execution_count": 5,
     "metadata": {},
     "output_type": "execute_result"
    }
   ],
   "source": [
    "df[\"cluster\"]=y_predicted\n",
    "#df2=df.drop(['Age','Genre','CustomerID'], axis=1)\n",
    "df.head()"
   ]
  },
  {
   "cell_type": "markdown",
   "id": "1a04fa12",
   "metadata": {
    "papermill": {
     "duration": 0.018494,
     "end_time": "2021-11-04T16:25:35.901691",
     "exception": false,
     "start_time": "2021-11-04T16:25:35.883197",
     "status": "completed"
    },
    "tags": []
   },
   "source": [
    "now, we need to separate the 5 clusters into different dataframes. then plot the clusters in different colors"
   ]
  },
  {
   "cell_type": "code",
   "execution_count": 6,
   "id": "4c66a2ee",
   "metadata": {
    "execution": {
     "iopub.execute_input": "2021-11-04T16:25:35.957911Z",
     "iopub.status.busy": "2021-11-04T16:25:35.957173Z",
     "iopub.status.idle": "2021-11-04T16:25:36.236434Z",
     "shell.execute_reply": "2021-11-04T16:25:36.235842Z",
     "shell.execute_reply.started": "2021-11-04T15:50:00.624606Z"
    },
    "papermill": {
     "duration": 0.316918,
     "end_time": "2021-11-04T16:25:36.236603",
     "exception": false,
     "start_time": "2021-11-04T16:25:35.919685",
     "status": "completed"
    },
    "tags": []
   },
   "outputs": [
    {
     "data": {
      "text/plain": [
       "Text(0, 0.5, 'Annual Income')"
      ]
     },
     "execution_count": 6,
     "metadata": {},
     "output_type": "execute_result"
    },
    {
     "data": {
      "image/png": "[encoded data removed]",
      "text/plain": [
       "<Figure size 432x288 with 1 Axes>"
      ]
     },
     "metadata": {
      "needs_background": "light"
     },
     "output_type": "display_data"
    }
   ],
   "source": [
    "df1=df[df.cluster==0]\n",
    "df2=df[df.cluster==1]\n",
    "df3=df[df.cluster==2]\n",
    "df4=df[df.cluster==3]\n",
    "df5=df[df.cluster==4]\n",
    "\n",
    "plt.scatter(df1[\"Spending Score (1-100)\"],df1[\"Annual Income (k$)\"],color='green')\n",
    "plt.scatter(df2[\"Spending Score (1-100)\"],df2[\"Annual Income (k$)\"],color='blue')\n",
    "plt.scatter(df3[\"Spending Score (1-100)\"],df3[\"Annual Income (k$)\"],color='red')\n",
    "plt.scatter(df4[\"Spending Score (1-100)\"],df4[\"Annual Income (k$)\"],color='yellow')\n",
    "plt.scatter(df5[\"Spending Score (1-100)\"],df5[\"Annual Income (k$)\"],color='black')\n",
    "\n",
    "plt.xlabel('Spending Score')\n",
    "plt.ylabel('Annual Income')"
   ]
  },
  {
   "cell_type": "markdown",
   "id": "3b14efa0",
   "metadata": {
    "papermill": {
     "duration": 0.019142,
     "end_time": "2021-11-04T16:25:36.275769",
     "exception": false,
     "start_time": "2021-11-04T16:25:36.256627",
     "status": "completed"
    },
    "tags": []
   },
   "source": [
    "In some cases the data is not clustered optimally. This is due to the fact that our scaling is not right and there is a big gap between the values in the y-axis and the x-axis. So, we need to scale the data prior to the clustreing.\n",
    "let's do the scaling with the MinMaxSclaer which we already imorted the library."
   ]
  },
  {
   "cell_type": "code",
   "execution_count": 7,
   "id": "b5b098c0",
   "metadata": {
    "execution": {
     "iopub.execute_input": "2021-11-04T16:25:36.326633Z",
     "iopub.status.busy": "2021-11-04T16:25:36.325715Z",
     "iopub.status.idle": "2021-11-04T16:25:36.339448Z",
     "shell.execute_reply": "2021-11-04T16:25:36.340109Z",
     "shell.execute_reply.started": "2021-11-04T15:54:31.983448Z"
    },
    "papermill": {
     "duration": 0.044846,
     "end_time": "2021-11-04T16:25:36.340302",
     "exception": false,
     "start_time": "2021-11-04T16:25:36.295456",
     "status": "completed"
    },
    "tags": []
   },
   "outputs": [
    {
     "data": {
      "text/html": [
       "<div>\n",
       "<style scoped>\n",
       "    .dataframe tbody tr th:only-of-type {\n",
       "        vertical-align: middle;\n",
       "    }\n",
       "\n",
       "    .dataframe tbody tr th {\n",
       "        vertical-align: top;\n",
       "    }\n",
       "\n",
       "    .dataframe thead th {\n",
       "        text-align: right;\n",
       "    }\n",
       "</style>\n",
       "<table border=\"1\" class=\"dataframe\">\n",
       "  <thead>\n",
       "    <tr style=\"text-align: right;\">\n",
       "      <th></th>\n",
       "      <th>CustomerID</th>\n",
       "      <th>Genre</th>\n",
       "      <th>Age</th>\n",
       "      <th>Annual Income (k$)</th>\n",
       "      <th>Spending Score (1-100)</th>\n",
       "      <th>cluster</th>\n",
       "    </tr>\n",
       "  </thead>\n",
       "  <tbody>\n",
       "    <tr>\n",
       "      <th>0</th>\n",
       "      <td>1</td>\n",
       "      <td>Male</td>\n",
       "      <td>19</td>\n",
       "      <td>0.000000</td>\n",
       "      <td>0.387755</td>\n",
       "      <td>0</td>\n",
       "    </tr>\n",
       "    <tr>\n",
       "      <th>1</th>\n",
       "      <td>2</td>\n",
       "      <td>Male</td>\n",
       "      <td>21</td>\n",
       "      <td>0.000000</td>\n",
       "      <td>0.816327</td>\n",
       "      <td>4</td>\n",
       "    </tr>\n",
       "    <tr>\n",
       "      <th>2</th>\n",
       "      <td>3</td>\n",
       "      <td>Female</td>\n",
       "      <td>20</td>\n",
       "      <td>0.008197</td>\n",
       "      <td>0.051020</td>\n",
       "      <td>0</td>\n",
       "    </tr>\n",
       "    <tr>\n",
       "      <th>3</th>\n",
       "      <td>4</td>\n",
       "      <td>Female</td>\n",
       "      <td>23</td>\n",
       "      <td>0.008197</td>\n",
       "      <td>0.775510</td>\n",
       "      <td>4</td>\n",
       "    </tr>\n",
       "    <tr>\n",
       "      <th>4</th>\n",
       "      <td>5</td>\n",
       "      <td>Female</td>\n",
       "      <td>31</td>\n",
       "      <td>0.016393</td>\n",
       "      <td>0.397959</td>\n",
       "      <td>0</td>\n",
       "    </tr>\n",
       "  </tbody>\n",
       "</table>\n",
       "</div>"
      ],
      "text/plain": [
       "   CustomerID   Genre  Age  Annual Income (k$)  Spending Score (1-100)  \\\n",
       "0           1    Male   19            0.000000                0.387755   \n",
       "1           2    Male   21            0.000000                0.816327   \n",
       "2           3  Female   20            0.008197                0.051020   \n",
       "3           4  Female   23            0.008197                0.775510   \n",
       "4           5  Female   31            0.016393                0.397959   \n",
       "\n",
       "   cluster  \n",
       "0        0  \n",
       "1        4  \n",
       "2        0  \n",
       "3        4  \n",
       "4        0  "
      ]
     },
     "execution_count": 7,
     "metadata": {},
     "output_type": "execute_result"
    }
   ],
   "source": [
    "scaler=MinMaxScaler()\n",
    "\n",
    "df['Spending Score (1-100)']=scaler.fit_transform(df[['Spending Score (1-100)']])\n",
    "df[\"Annual Income (k$)\"]=scaler.fit_transform(df[['Annual Income (k$)']])\n",
    "\n",
    "df.head()"
   ]
  },
  {
   "cell_type": "markdown",
   "id": "5b6530ce",
   "metadata": {
    "papermill": {
     "duration": 0.019589,
     "end_time": "2021-11-04T16:25:36.379762",
     "exception": false,
     "start_time": "2021-11-04T16:25:36.360173",
     "status": "completed"
    },
    "tags": []
   },
   "source": [
    "Now, plot the scaled values"
   ]
  },
  {
   "cell_type": "code",
   "execution_count": 8,
   "id": "ff6d4e3b",
   "metadata": {
    "execution": {
     "iopub.execute_input": "2021-11-04T16:25:36.423711Z",
     "iopub.status.busy": "2021-11-04T16:25:36.422760Z",
     "iopub.status.idle": "2021-11-04T16:25:36.626766Z",
     "shell.execute_reply": "2021-11-04T16:25:36.627310Z",
     "shell.execute_reply.started": "2021-11-04T14:02:43.136975Z"
    },
    "papermill": {
     "duration": 0.227895,
     "end_time": "2021-11-04T16:25:36.627570",
     "exception": false,
     "start_time": "2021-11-04T16:25:36.399675",
     "status": "completed"
    },
    "tags": []
   },
   "outputs": [
    {
     "data": {
      "text/plain": [
       "<matplotlib.collections.PathCollection at 0x7f58fb293b10>"
      ]
     },
     "execution_count": 8,
     "metadata": {},
     "output_type": "execute_result"
    },
    {
     "data": {
      "image/png": "[encoded data removed]",
      "text/plain": [
       "<Figure size 432x288 with 1 Axes>"
      ]
     },
     "metadata": {
      "needs_background": "light"
     },
     "output_type": "display_data"
    }
   ],
   "source": [
    "plt.scatter(df[\"Spending Score (1-100)\"],df[\"Annual Income (k$)\"])"
   ]
  },
  {
   "cell_type": "markdown",
   "id": "55dea8f3",
   "metadata": {
    "papermill": {
     "duration": 0.020867,
     "end_time": "2021-11-04T16:25:36.668907",
     "exception": false,
     "start_time": "2021-11-04T16:25:36.648040",
     "status": "completed"
    },
    "tags": []
   },
   "source": [
    "Again, the same process with the scaled data"
   ]
  },
  {
   "cell_type": "code",
   "execution_count": 9,
   "id": "cf613c7a",
   "metadata": {
    "execution": {
     "iopub.execute_input": "2021-11-04T16:25:36.714630Z",
     "iopub.status.busy": "2021-11-04T16:25:36.713652Z",
     "iopub.status.idle": "2021-11-04T16:25:36.758360Z",
     "shell.execute_reply": "2021-11-04T16:25:36.758903Z",
     "shell.execute_reply.started": "2021-11-04T15:55:33.056467Z"
    },
    "papermill": {
     "duration": 0.069354,
     "end_time": "2021-11-04T16:25:36.759110",
     "exception": false,
     "start_time": "2021-11-04T16:25:36.689756",
     "status": "completed"
    },
    "tags": []
   },
   "outputs": [
    {
     "data": {
      "text/html": [
       "<div>\n",
       "<style scoped>\n",
       "    .dataframe tbody tr th:only-of-type {\n",
       "        vertical-align: middle;\n",
       "    }\n",
       "\n",
       "    .dataframe tbody tr th {\n",
       "        vertical-align: top;\n",
       "    }\n",
       "\n",
       "    .dataframe thead th {\n",
       "        text-align: right;\n",
       "    }\n",
       "</style>\n",
       "<table border=\"1\" class=\"dataframe\">\n",
       "  <thead>\n",
       "    <tr style=\"text-align: right;\">\n",
       "      <th></th>\n",
       "      <th>CustomerID</th>\n",
       "      <th>Genre</th>\n",
       "      <th>Age</th>\n",
       "      <th>Annual Income (k$)</th>\n",
       "      <th>Spending Score (1-100)</th>\n",
       "      <th>cluster</th>\n",
       "    </tr>\n",
       "  </thead>\n",
       "  <tbody>\n",
       "    <tr>\n",
       "      <th>0</th>\n",
       "      <td>1</td>\n",
       "      <td>Male</td>\n",
       "      <td>19</td>\n",
       "      <td>0.000000</td>\n",
       "      <td>0.387755</td>\n",
       "      <td>0</td>\n",
       "    </tr>\n",
       "    <tr>\n",
       "      <th>1</th>\n",
       "      <td>2</td>\n",
       "      <td>Male</td>\n",
       "      <td>21</td>\n",
       "      <td>0.000000</td>\n",
       "      <td>0.816327</td>\n",
       "      <td>1</td>\n",
       "    </tr>\n",
       "    <tr>\n",
       "      <th>2</th>\n",
       "      <td>3</td>\n",
       "      <td>Female</td>\n",
       "      <td>20</td>\n",
       "      <td>0.008197</td>\n",
       "      <td>0.051020</td>\n",
       "      <td>0</td>\n",
       "    </tr>\n",
       "    <tr>\n",
       "      <th>3</th>\n",
       "      <td>4</td>\n",
       "      <td>Female</td>\n",
       "      <td>23</td>\n",
       "      <td>0.008197</td>\n",
       "      <td>0.775510</td>\n",
       "      <td>1</td>\n",
       "    </tr>\n",
       "    <tr>\n",
       "      <th>4</th>\n",
       "      <td>5</td>\n",
       "      <td>Female</td>\n",
       "      <td>31</td>\n",
       "      <td>0.016393</td>\n",
       "      <td>0.397959</td>\n",
       "      <td>0</td>\n",
       "    </tr>\n",
       "  </tbody>\n",
       "</table>\n",
       "</div>"
      ],
      "text/plain": [
       "   CustomerID   Genre  Age  Annual Income (k$)  Spending Score (1-100)  \\\n",
       "0           1    Male   19            0.000000                0.387755   \n",
       "1           2    Male   21            0.000000                0.816327   \n",
       "2           3  Female   20            0.008197                0.051020   \n",
       "3           4  Female   23            0.008197                0.775510   \n",
       "4           5  Female   31            0.016393                0.397959   \n",
       "\n",
       "   cluster  \n",
       "0        0  \n",
       "1        1  \n",
       "2        0  \n",
       "3        1  \n",
       "4        0  "
      ]
     },
     "execution_count": 9,
     "metadata": {},
     "output_type": "execute_result"
    }
   ],
   "source": [
    "km=KMeans(n_clusters=5)\n",
    "y_predicted=km.fit_predict(df[['Spending Score (1-100)',\"Annual Income (k$)\"]])\n",
    "df.cluster=y_predicted\n",
    "df.head()"
   ]
  },
  {
   "cell_type": "markdown",
   "id": "be9506d9",
   "metadata": {
    "papermill": {
     "duration": 0.020627,
     "end_time": "2021-11-04T16:25:36.801277",
     "exception": false,
     "start_time": "2021-11-04T16:25:36.780650",
     "status": "completed"
    },
    "tags": []
   },
   "source": [
    "we can obtain the value of the cenroids by the \"cluster_centers_\""
   ]
  },
  {
   "cell_type": "code",
   "execution_count": 10,
   "id": "7a964cb9",
   "metadata": {
    "execution": {
     "iopub.execute_input": "2021-11-04T16:25:36.847461Z",
     "iopub.status.busy": "2021-11-04T16:25:36.846466Z",
     "iopub.status.idle": "2021-11-04T16:25:36.852509Z",
     "shell.execute_reply": "2021-11-04T16:25:36.853049Z",
     "shell.execute_reply.started": "2021-11-04T15:56:34.75408Z"
    },
    "papermill": {
     "duration": 0.030893,
     "end_time": "2021-11-04T16:25:36.853223",
     "exception": false,
     "start_time": "2021-11-04T16:25:36.822330",
     "status": "completed"
    },
    "tags": []
   },
   "outputs": [
    {
     "data": {
      "text/plain": [
       "array([[0.20319432, 0.09265859],\n",
       "       [0.79962894, 0.08792846],\n",
       "       [0.82783883, 0.58638083],\n",
       "       [0.16443149, 0.6       ],\n",
       "       [0.49508692, 0.33029751]])"
      ]
     },
     "execution_count": 10,
     "metadata": {},
     "output_type": "execute_result"
    }
   ],
   "source": [
    "km.cluster_centers_"
   ]
  },
  {
   "cell_type": "markdown",
   "id": "664c6aa9",
   "metadata": {
    "papermill": {
     "duration": 0.02154,
     "end_time": "2021-11-04T16:25:36.896056",
     "exception": false,
     "start_time": "2021-11-04T16:25:36.874516",
     "status": "completed"
    },
    "tags": []
   },
   "source": [
    "in the next plot, I am showing the cenroids by purple color and the * marker"
   ]
  },
  {
   "cell_type": "code",
   "execution_count": 11,
   "id": "77f1b1f7",
   "metadata": {
    "execution": {
     "iopub.execute_input": "2021-11-04T16:25:36.942038Z",
     "iopub.status.busy": "2021-11-04T16:25:36.941039Z",
     "iopub.status.idle": "2021-11-04T16:25:37.221675Z",
     "shell.execute_reply": "2021-11-04T16:25:37.222213Z",
     "shell.execute_reply.started": "2021-11-04T15:57:33.016185Z"
    },
    "papermill": {
     "duration": 0.305437,
     "end_time": "2021-11-04T16:25:37.222427",
     "exception": false,
     "start_time": "2021-11-04T16:25:36.916990",
     "status": "completed"
    },
    "tags": []
   },
   "outputs": [
    {
     "data": {
      "text/plain": [
       "Text(0, 0.5, 'Annual Income')"
      ]
     },
     "execution_count": 11,
     "metadata": {},
     "output_type": "execute_result"
    },
    {
     "data": {
      "image/png": "[encoded data removed]",
      "text/plain": [
       "<Figure size 432x288 with 1 Axes>"
      ]
     },
     "metadata": {
      "needs_background": "light"
     },
     "output_type": "display_data"
    }
   ],
   "source": [
    "df1=df[df.cluster==0]\n",
    "df2=df[df.cluster==1]\n",
    "df3=df[df.cluster==2]\n",
    "df4=df[df.cluster==3]\n",
    "df5=df[df.cluster==4]\n",
    "\n",
    "plt.scatter(df1[\"Spending Score (1-100)\"],df1[\"Annual Income (k$)\"],color='green')\n",
    "plt.scatter(df2[\"Spending Score (1-100)\"],df2[\"Annual Income (k$)\"],color='blue')\n",
    "plt.scatter(df3[\"Spending Score (1-100)\"],df3[\"Annual Income (k$)\"],color='red')\n",
    "plt.scatter(df4[\"Spending Score (1-100)\"],df4[\"Annual Income (k$)\"],color='yellow')\n",
    "plt.scatter(df5[\"Spending Score (1-100)\"],df5[\"Annual Income (k$)\"],color='black')\n",
    "plt.scatter(km.cluster_centers_[:,0],km.cluster_centers_[:,1],color='purple',marker='*')\n",
    "\n",
    "plt.xlabel('Spending Score')\n",
    "plt.ylabel('Annual Income')"
   ]
  },
  {
   "cell_type": "markdown",
   "id": "d339cfcd",
   "metadata": {
    "papermill": {
     "duration": 0.021932,
     "end_time": "2021-11-04T16:25:37.266616",
     "exception": false,
     "start_time": "2021-11-04T16:25:37.244684",
     "status": "completed"
    },
    "tags": []
   },
   "source": [
    "Now, let's find the optimal value of K by using the elbow method. \n",
    "\n",
    "we will try the K values from 1 to 10 and we will copy the SSE values to the sse."
   ]
  },
  {
   "cell_type": "code",
   "execution_count": 12,
   "id": "41c0c548",
   "metadata": {
    "execution": {
     "iopub.execute_input": "2021-11-04T16:25:37.315557Z",
     "iopub.status.busy": "2021-11-04T16:25:37.314539Z",
     "iopub.status.idle": "2021-11-04T16:25:37.775574Z",
     "shell.execute_reply": "2021-11-04T16:25:37.774870Z",
     "shell.execute_reply.started": "2021-11-04T15:58:19.688811Z"
    },
    "papermill": {
     "duration": 0.486769,
     "end_time": "2021-11-04T16:25:37.775740",
     "exception": false,
     "start_time": "2021-11-04T16:25:37.288971",
     "status": "completed"
    },
    "tags": []
   },
   "outputs": [],
   "source": [
    "k_rng=range(1,11)\n",
    "sse=[]\n",
    "for k in k_rng:\n",
    "    km=KMeans(n_clusters=k)\n",
    "    km.fit(df[['Spending Score (1-100)',\"Annual Income (k$)\"]])\n",
    "    sse.append(km.inertia_)"
   ]
  },
  {
   "cell_type": "markdown",
   "id": "e4c4d339",
   "metadata": {
    "papermill": {
     "duration": 0.022786,
     "end_time": "2021-11-04T16:25:37.821842",
     "exception": false,
     "start_time": "2021-11-04T16:25:37.799056",
     "status": "completed"
    },
    "tags": []
   },
   "source": [
    "No, let's plot the sse plot. As we can see, the K=5 is the optimal value "
   ]
  },
  {
   "cell_type": "code",
   "execution_count": 13,
   "id": "4fa792b5",
   "metadata": {
    "execution": {
     "iopub.execute_input": "2021-11-04T16:25:37.900454Z",
     "iopub.status.busy": "2021-11-04T16:25:37.898858Z",
     "iopub.status.idle": "2021-11-04T16:25:38.074516Z",
     "shell.execute_reply": "2021-11-04T16:25:38.074978Z",
     "shell.execute_reply.started": "2021-11-04T16:00:03.672778Z"
    },
    "papermill": {
     "duration": 0.230229,
     "end_time": "2021-11-04T16:25:38.075165",
     "exception": false,
     "start_time": "2021-11-04T16:25:37.844936",
     "status": "completed"
    },
    "tags": []
   },
   "outputs": [
    {
     "data": {
      "text/plain": [
       "<matplotlib.collections.PathCollection at 0x7f58fb1c2190>"
      ]
     },
     "execution_count": 13,
     "metadata": {},
     "output_type": "execute_result"
    },
    {
     "data": {
      "image/png": "[encoded data removed]",
      "text/plain": [
       "<Figure size 432x288 with 1 Axes>"
      ]
     },
     "metadata": {
      "needs_background": "light"
     },
     "output_type": "display_data"
    }
   ],
   "source": [
    "plt.xlabel('K')\n",
    "plt.ylabel('SSE')\n",
    "\n",
    "plt.plot(k_rng,sse)\n",
    "plt.scatter(k_rng,sse)"
   ]
  },
  {
   "cell_type": "markdown",
   "id": "0cd5cf6d",
   "metadata": {
    "papermill": {
     "duration": 0.02319,
     "end_time": "2021-11-04T16:25:38.121716",
     "exception": false,
     "start_time": "2021-11-04T16:25:38.098526",
     "status": "completed"
    },
    "tags": []
   },
   "source": [
    "# **Summary**"
   ]
  },
  {
   "cell_type": "markdown",
   "id": "582cf7ac",
   "metadata": {
    "papermill": {
     "duration": 0.022995,
     "end_time": "2021-11-04T16:25:38.168258",
     "exception": false,
     "start_time": "2021-11-04T16:25:38.145263",
     "status": "completed"
    },
    "tags": []
   },
   "source": [
    "In this project, I implemented the most popular unsupervised clustering technique called K-Means Clustering.\n",
    "\n",
    "1. I showed how we can use sclaing to normalize the input data in case of having a large gap betwwn the input features.\n",
    "1. I applied the elbow method. The elbow method show that K=5 (k is number of clusters) can be considered an optimal number of cluster.\n",
    "\n",
    "\n",
    "\n",
    "\n",
    "\n"
   ]
  },
  {
   "cell_type": "markdown",
   "id": "e44c1588",
   "metadata": {
    "papermill": {
     "duration": 0.023086,
     "end_time": "2021-11-04T16:25:38.214725",
     "exception": false,
     "start_time": "2021-11-04T16:25:38.191639",
     "status": "completed"
    },
    "tags": []
   },
   "source": [
    "# **References**"
   ]
  },
  {
   "cell_type": "markdown",
   "id": "cbfc6d1b",
   "metadata": {
    "papermill": {
     "duration": 0.023267,
     "end_time": "2021-11-04T16:25:38.261194",
     "exception": false,
     "start_time": "2021-11-04T16:25:38.237927",
     "status": "completed"
    },
    "tags": []
   },
   "source": [
    "https://www.tutorialspoint.com/machine_learning_with_python/machine_learning_with_python_clustering_algorithms_k_means.htm\n",
    "\n",
    "https://www.youtube.com/watch?v=EItlUEPCIzM\n",
    "\n",
    "https://www.analyticsvidhya.com/blog/2020/10/a-simple-explanation-of-k-means-clustering/\n",
    "\n"
   ]
  }
 ],
 "metadata": {
  "kernelspec": {
   "display_name": "Python 3",
   "language": "python",
   "name": "python3"
  },
  "language_info": {
   "codemirror_mode": {
    "name": "ipython",
    "version": 3
   },
   "file_extension": ".py",
   "mimetype": "text/x-python",
   "name": "python",
   "nbconvert_exporter": "python",
   "pygments_lexer": "ipython3",
   "version": "3.7.10"
  },
  "papermill": {
   "default_parameters": {},
   "duration": 13.95454,
   "end_time": "2021-11-04T16:25:39.297187",
   "environment_variables": {},
   "exception": null,
   "input_path": "__notebook__.ipynb",
   "output_path": "__notebook__.ipynb",
   "parameters": {},
   "start_time": "2021-11-04T16:25:25.342647",
   "version": "2.3.3"
  }
 },
 "nbformat": 4,
 "nbformat_minor": 5
}
